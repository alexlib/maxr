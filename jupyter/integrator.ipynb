{
 "cells": [
  {
   "cell_type": "code",
   "execution_count": 1,
   "metadata": {},
   "outputs": [],
   "source": [
    "%load_ext Cython"
   ]
  },
  {
   "cell_type": "markdown",
   "metadata": {},
   "source": [
    "Check that we get the same coefficients for both the Python and Cython versions"
   ]
  },
  {
   "cell_type": "code",
   "execution_count": 2,
   "metadata": {},
   "outputs": [
    {
     "ename": "TypeError",
     "evalue": "C variable maxr.ext.common.NUM_THREADS has wrong signature (expected __pyx_t_4maxr_3ext_6common_uint_t, got int)",
     "output_type": "error",
     "traceback": [
      "\u001b[0;31m---------------------------------------------------------------------------\u001b[0m",
      "\u001b[0;31mTypeError\u001b[0m                                 Traceback (most recent call last)",
      "\u001b[0;32m<ipython-input-2-7d4bf84d4b86>\u001b[0m in \u001b[0;36m<module>\u001b[0;34m()\u001b[0m\n\u001b[1;32m      1\u001b[0m \u001b[0;32mfrom\u001b[0m \u001b[0mmaxr\u001b[0m\u001b[0;34m.\u001b[0m\u001b[0mintegrator\u001b[0m\u001b[0;34m.\u001b[0m\u001b[0mhistory\u001b[0m \u001b[0;32mimport\u001b[0m \u001b[0mcoefficients\u001b[0m\u001b[0;34m\u001b[0m\u001b[0m\n\u001b[0;32m----> 2\u001b[0;31m \u001b[0;32mfrom\u001b[0m \u001b[0mmaxr\u001b[0m\u001b[0;34m.\u001b[0m\u001b[0mext\u001b[0m\u001b[0;34m.\u001b[0m\u001b[0mcoefficients\u001b[0m \u001b[0;32mimport\u001b[0m \u001b[0mIntegratorCoeffs\u001b[0m\u001b[0;34m\u001b[0m\u001b[0m\n\u001b[0m\u001b[1;32m      3\u001b[0m \u001b[0;34m\u001b[0m\u001b[0m\n\u001b[1;32m      4\u001b[0m \u001b[0;32mfor\u001b[0m \u001b[0morder\u001b[0m \u001b[0;32min\u001b[0m \u001b[0;34m(\u001b[0m\u001b[0;36m1\u001b[0m\u001b[0;34m,\u001b[0m \u001b[0;36m2\u001b[0m\u001b[0;34m,\u001b[0m \u001b[0;36m3\u001b[0m\u001b[0;34m)\u001b[0m\u001b[0;34m:\u001b[0m\u001b[0;34m\u001b[0m\u001b[0m\n\u001b[1;32m      5\u001b[0m     \u001b[0;32mfor\u001b[0m \u001b[0mlength\u001b[0m \u001b[0;32min\u001b[0m \u001b[0mrange\u001b[0m\u001b[0;34m(\u001b[0m\u001b[0;36m1\u001b[0m\u001b[0;34m,\u001b[0m \u001b[0;36m40\u001b[0m\u001b[0;34m)\u001b[0m\u001b[0;34m:\u001b[0m\u001b[0;34m\u001b[0m\u001b[0m\n",
      "\u001b[0;32m~/Documents/Fluid dynamics/maxr/maxr/ext/coefficients.pyx\u001b[0m in \u001b[0;36minit maxr.ext.coefficients\u001b[0;34m()\u001b[0m\n\u001b[0;32m----> 1\u001b[0;31m \"\"\" file:   coefficients.pyx\n\u001b[0m\u001b[1;32m      2\u001b[0m     \u001b[0mauthor\u001b[0m\u001b[0;34m:\u001b[0m \u001b[0mJess\u001b[0m \u001b[0mRobertson\u001b[0m\u001b[0;34m,\u001b[0m \u001b[0mCSIRO\u001b[0m \u001b[0mMinerals\u001b[0m\u001b[0;34m\u001b[0m\u001b[0m\n\u001b[1;32m      3\u001b[0m     \u001b[0mdate\u001b[0m\u001b[0;34m:\u001b[0m   \u001b[0mJune\u001b[0m \u001b[0;36m2018\u001b[0m\u001b[0;34m\u001b[0m\u001b[0m\n\u001b[1;32m      4\u001b[0m \u001b[0;34m\u001b[0m\u001b[0m\n\u001b[1;32m      5\u001b[0m     \u001b[0mdescription\u001b[0m\u001b[0;34m:\u001b[0m \u001b[0mCython\u001b[0m \u001b[0mimplementation\u001b[0m \u001b[0mof\u001b[0m \u001b[0mhistory\u001b[0m \u001b[0mintegral\u001b[0m \u001b[0mterms\u001b[0m\u001b[0;34m\u001b[0m\u001b[0m\n",
      "\u001b[0;31mTypeError\u001b[0m: C variable maxr.ext.common.NUM_THREADS has wrong signature (expected __pyx_t_4maxr_3ext_6common_uint_t, got int)"
     ]
    }
   ],
   "source": [
    "from maxr.integrator.history import coefficients\n",
    "from maxr.ext.coefficients import IntegratorCoeffs\n",
    "\n",
    "for order in (1, 2, 3):\n",
    "    for length in range(1, 40):\n",
    "        cyth = IntegratorCoeffs(length, order).as_array()\n",
    "        pyth = coefficients(length, order)\n",
    "        if not np.allclose(cyth, pyth):\n",
    "            print('Difference! order = {}, length = {}'.format(order, length))\n",
    "            print('cython: {}\\npython: {}\\n'.format(cyth, pyth))"
   ]
  },
  {
   "cell_type": "code",
   "execution_count": null,
   "metadata": {},
   "outputs": [],
   "source": []
  }
 ],
 "metadata": {
  "kernelspec": {
   "display_name": "Python 3",
   "language": "python",
   "name": "python3"
  },
  "language_info": {
   "codemirror_mode": {
    "name": "ipython",
    "version": 3
   },
   "file_extension": ".py",
   "mimetype": "text/x-python",
   "name": "python",
   "nbconvert_exporter": "python",
   "pygments_lexer": "ipython3",
   "version": "3.6.5"
  }
 },
 "nbformat": 4,
 "nbformat_minor": 2
}
